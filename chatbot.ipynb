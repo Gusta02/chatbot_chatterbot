{
  "nbformat": 4,
  "nbformat_minor": 0,
  "metadata": {
    "colab": {
      "name": "chatbot.ipynb",
      "provenance": [],
      "authorship_tag": "ABX9TyMcQaOmty2irgW9jsLZ/bLm",
      "include_colab_link": true
    },
    "kernelspec": {
      "name": "python3",
      "display_name": "Python 3"
    },
    "language_info": {
      "name": "python"
    }
  },
  "cells": [
    {
      "cell_type": "markdown",
      "metadata": {
        "id": "view-in-github",
        "colab_type": "text"
      },
      "source": [
        "<a href=\"https://colab.research.google.com/github/Gusta02/chatbot_chatterbot/blob/main/chatbot.ipynb\" target=\"_parent\"><img src=\"https://colab.research.google.com/assets/colab-badge.svg\" alt=\"Open In Colab\"/></a>"
      ]
    },
    {
      "cell_type": "code",
      "metadata": {
        "colab": {
          "base_uri": "https://localhost:8080/"
        },
        "id": "h3Ce3b8-aHW_",
        "outputId": "127a022c-844e-4816-81f4-1167a98e3b0f"
      },
      "source": [
        "from chatterbot import ChatBot\n",
        "from chatterbot.trainers import ListTrainer\n",
        "\n",
        "# isso aqui só precisa para corrigir o bug\n",
        "from spacy.cli import download\n",
        "\n",
        "download(\"en_core_web_sm\")\n",
        "\n",
        "class ENGSM:\n",
        "    ISO_639_1 = 'en_core_web_sm'"
      ],
      "execution_count": null,
      "outputs": [
        {
          "output_type": "stream",
          "name": "stdout",
          "text": [
            "\u001b[38;5;2m✔ Download and installation successful\u001b[0m\n",
            "You can now load the model via spacy.load('en_core_web_sm')\n"
          ]
        }
      ]
    },
    {
      "cell_type": "code",
      "metadata": {
        "colab": {
          "base_uri": "https://localhost:8080/"
        },
        "id": "wiBATdUyaMQV",
        "outputId": "0b9bdf22-c821-496e-87e1-320c1257fd2c"
      },
      "source": [
        "chatbot = ChatBot(\"BotHausz\", tagger_language=ENGSM)\n",
        "\n",
        "conversa = [\n",
        "    \"Bom dia\",\n",
        "    \"olá, tudo bem?\",\n",
        "    \"tudo sim\",\n",
        "    \"em que posso ajuda-lo hoje?\",\n",
        "    \"meu orçamento esta com problemas\",\n",
        "    \"qual seria o problema?\",\n",
        "    \"carrega infinito\",\n",
        "    \"tente aperta ctrl + shift + r, e veja se o erro persiste\",\n",
        "]\n",
        "\n",
        "trainer = ListTrainer(chatbot)\n",
        "trainer.train(conversa)"
      ],
      "execution_count": null,
      "outputs": [
        {
          "output_type": "stream",
          "name": "stdout",
          "text": [
            "List Trainer: [####################] 100%\n"
          ]
        }
      ]
    },
    {
      "cell_type": "code",
      "metadata": {
        "colab": {
          "base_uri": "https://localhost:8080/"
        },
        "id": "87IoLbVQaOuG",
        "outputId": "4ad0a304-22a2-4615-a9d6-711b2ea120b6"
      },
      "source": [
        "bwhile True:\n",
        "    mensagem = input(\"Mande uma mensagem para o chatbot:\")\n",
        "    if mensagem == \"parar\":\n",
        "        break\n",
        "    resposta = chatbot.get_response(mensagem)\n",
        "    print(resposta)"
      ],
      "execution_count": null,
      "outputs": [
        {
          "name": "stdout",
          "output_type": "stream",
          "text": [
            "Mande uma mensagem para o chatbot:bom dia\n",
            "olá, tudo bem?\n",
            "Mande uma mensagem para o chatbot:tudo sim e com vc?\n",
            "em que posso ajuda-lo hoje?\n",
            "Mande uma mensagem para o chatbot:estou com problemas com meu orçamento\n",
            "qual seria o problema?\n",
            "Mande uma mensagem para o chatbot:não consigo abrir ele\n",
            "tudo sim\n",
            "Mande uma mensagem para o chatbot:meu orçamento esta com problemas\n",
            "qual seria o problema?\n",
            "Mande uma mensagem para o chatbot:ele carrega infinito\n",
            "tente aperta ctrl + shift + r, e veja se o erro persiste\n",
            "Mande uma mensagem para o chatbot:ok\n",
            "tudo sim\n",
            "Mande uma mensagem para o chatbot:em?\n",
            "olá, tudo bem?\n",
            "Mande uma mensagem para o chatbot:tudo sim e com vc?\n",
            "estou com problemas com meu orçamento\n",
            "Mande uma mensagem para o chatbot:qual o problema?\n",
            "qual seria o problema?\n",
            "Mande uma mensagem para o chatbot:xiii\n",
            "olá, tudo bem?\n",
            "Mande uma mensagem para o chatbot:deu ruim\n",
            "meu orçamento esta com problemas\n",
            "Mande uma mensagem para o chatbot:botzin pifo\n",
            "em que posso ajuda-lo hoje?\n",
            "Mande uma mensagem para o chatbot:parar\n"
          ]
        }
      ]
    }
  ]
}